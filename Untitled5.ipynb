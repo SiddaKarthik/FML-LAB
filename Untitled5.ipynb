{
  "nbformat": 4,
  "nbformat_minor": 0,
  "metadata": {
    "colab": {
      "provenance": [],
      "authorship_tag": "ABX9TyO2iGUcRt8/20y0OTjOqHqO",
      "include_colab_link": true
    },
    "kernelspec": {
      "name": "python3",
      "display_name": "Python 3"
    },
    "language_info": {
      "name": "python"
    }
  },
  "cells": [
    {
      "cell_type": "markdown",
      "metadata": {
        "id": "view-in-github",
        "colab_type": "text"
      },
      "source": [
        "<a href=\"https://colab.research.google.com/github/SiddaKarthik/FML-LAB/blob/main/Untitled5.ipynb\" target=\"_parent\"><img src=\"https://colab.research.google.com/assets/colab-badge.svg\" alt=\"Open In Colab\"/></a>"
      ]
    },
    {
      "cell_type": "markdown",
      "source": [
        "# TOKENIZING USING PYTHON split() ***function***"
      ],
      "metadata": {
        "id": "iPaSmcnMGL5x"
      }
    },
    {
      "cell_type": "code",
      "source": [
        "text='''M.S. Dhoni born July 7, 1981, Ranchi, Bihar now Jharkhand state, India Indian cricketer whose rise to prominence in the early 21st century culminated in his captaincy of the Indian national team that won the one-day Cricket World Cup in 2011. Dhoni made his international debut in 2004'''\n",
        "token = text.split()\n",
        "print(token)\n",
        "print(len(text))"
      ],
      "metadata": {
        "colab": {
          "base_uri": "https://localhost:8080/"
        },
        "id": "I7ThG9QCGVIw",
        "outputId": "195aed70-08c5-476c-ff67-91b784289ccd"
      },
      "execution_count": 7,
      "outputs": [
        {
          "output_type": "stream",
          "name": "stdout",
          "text": [
            "['M.S.', 'Dhoni', 'born', 'July', '7,', '1981,', 'Ranchi,', 'Bihar', 'now', 'Jharkhand', 'state,', 'India', 'Indian', 'cricketer', 'whose', 'rise', 'to', 'prominence', 'in', 'the', 'early', '21st', 'century', 'culminated', 'in', 'his', 'captaincy', 'of', 'the', 'Indian', 'national', 'team', 'that', 'won', 'the', 'one-day', 'Cricket', 'World', 'Cup', 'in', '2011.', 'Dhoni', 'made', 'his', 'international', 'debut', 'in', '2004']\n",
            "285\n"
          ]
        }
      ]
    },
    {
      "cell_type": "code",
      "source": [
        "text='''M.S. Dhoni born July 7, 1981, Ranchi, Bihar now Jharkhand state, India Indian cricketer whose rise to prominence in the early 21st century culminated in his captaincy of the Indian national team that won the one-day Cricket World Cup in 2011. Dhoni made his international debut in 2004'''\n",
        "sentences = text.split('.')\n",
        "print(sentences)\n",
        "print(len(sentences))"
      ],
      "metadata": {
        "colab": {
          "base_uri": "https://localhost:8080/"
        },
        "id": "WG694xH2HVkU",
        "outputId": "4a5db60f-279b-4548-fd8c-9bdb253148e3"
      },
      "execution_count": 10,
      "outputs": [
        {
          "output_type": "stream",
          "name": "stdout",
          "text": [
            "['M', 'S', ' Dhoni born July 7, 1981, Ranchi, Bihar now Jharkhand state, India Indian cricketer whose rise to prominence in the early 21st century culminated in his captaincy of the Indian national team that won the one-day Cricket World Cup in 2011', ' Dhoni made his international debut in 2004']\n",
            "4\n"
          ]
        }
      ]
    },
    {
      "cell_type": "code",
      "source": [
        "import re"
      ],
      "metadata": {
        "id": "v7b8ENYBQwu-"
      },
      "execution_count": 11,
      "outputs": []
    },
    {
      "cell_type": "code",
      "source": [
        "tokens = re.findall(\"[\\w']+\", text)\n",
        "print(tokens)\n",
        "print(\"No.of tokens : \", len(tokens))"
      ],
      "metadata": {
        "colab": {
          "base_uri": "https://localhost:8080/"
        },
        "id": "JfXvaZdlQ2Dm",
        "outputId": "399c9e09-84ce-4f46-974f-e9e994b92b67"
      },
      "execution_count": 12,
      "outputs": [
        {
          "output_type": "stream",
          "name": "stdout",
          "text": [
            "['M', 'S', 'Dhoni', 'born', 'July', '7', '1981', 'Ranchi', 'Bihar', 'now', 'Jharkhand', 'state', 'India', 'Indian', 'cricketer', 'whose', 'rise', 'to', 'prominence', 'in', 'the', 'early', '21st', 'century', 'culminated', 'in', 'his', 'captaincy', 'of', 'the', 'Indian', 'national', 'team', 'that', 'won', 'the', 'one', 'day', 'Cricket', 'World', 'Cup', 'in', '2011', 'Dhoni', 'made', 'his', 'international', 'debut', 'in', '2004']\n",
            "No.of tokens :  50\n"
          ]
        }
      ]
    },
    {
      "cell_type": "code",
      "source": [
        "sentences = re.compile('[.?!] ').split(text)\n",
        "print(sentences)\n",
        "print(\"No.of sentences : \", len(sentences))"
      ],
      "metadata": {
        "colab": {
          "base_uri": "https://localhost:8080/"
        },
        "id": "TBUjoOFARaNJ",
        "outputId": "3324af85-62e9-4e1d-8b0d-e069b7c6da38"
      },
      "execution_count": 13,
      "outputs": [
        {
          "output_type": "stream",
          "name": "stdout",
          "text": [
            "['M.S', 'Dhoni born July 7, 1981, Ranchi, Bihar now Jharkhand state, India Indian cricketer whose rise to prominence in the early 21st century culminated in his captaincy of the Indian national team that won the one-day Cricket World Cup in 2011', 'Dhoni made his international debut in 2004']\n",
            "No.of sentences :  3\n"
          ]
        }
      ]
    },
    {
      "cell_type": "code",
      "source": [
        "pip install nltk\n"
      ],
      "metadata": {
        "colab": {
          "base_uri": "https://localhost:8080/"
        },
        "id": "3My3XphYRheZ",
        "outputId": "ecfa1e14-ba93-406e-8cd4-5aa72f47ac19"
      },
      "execution_count": 15,
      "outputs": [
        {
          "output_type": "stream",
          "name": "stdout",
          "text": [
            "Requirement already satisfied: nltk in /usr/local/lib/python3.10/dist-packages (3.8.1)\n",
            "Requirement already satisfied: click in /usr/local/lib/python3.10/dist-packages (from nltk) (8.1.7)\n",
            "Requirement already satisfied: joblib in /usr/local/lib/python3.10/dist-packages (from nltk) (1.3.2)\n",
            "Requirement already satisfied: regex>=2021.8.3 in /usr/local/lib/python3.10/dist-packages (from nltk) (2023.12.25)\n",
            "Requirement already satisfied: tqdm in /usr/local/lib/python3.10/dist-packages (from nltk) (4.66.2)\n"
          ]
        }
      ]
    },
    {
      "cell_type": "code",
      "source": [
        "import nltk\n",
        "nltk.download('punkt')\n",
        ""
      ],
      "metadata": {
        "colab": {
          "base_uri": "https://localhost:8080/"
        },
        "id": "qqBXDeTcUpWz",
        "outputId": "24b466b4-f0f0-4066-9041-675d2ed15270"
      },
      "execution_count": 16,
      "outputs": [
        {
          "output_type": "stream",
          "name": "stderr",
          "text": [
            "[nltk_data] Downloading package punkt to /root/nltk_data...\n",
            "[nltk_data]   Unzipping tokenizers/punkt.zip.\n"
          ]
        },
        {
          "output_type": "execute_result",
          "data": {
            "text/plain": [
              "True"
            ]
          },
          "metadata": {},
          "execution_count": 16
        }
      ]
    },
    {
      "cell_type": "code",
      "source": [
        "from nltk.tokenize import word_tokenize\n",
        "tokens = word_tokenize(text)\n",
        "print(tokens)\n",
        "print(\"No.of tokens : \", len(tokens))"
      ],
      "metadata": {
        "colab": {
          "base_uri": "https://localhost:8080/"
        },
        "id": "4A2aCa7-V42C",
        "outputId": "69d60769-ab52-4b57-ebe2-ae29e1ff3b62"
      },
      "execution_count": 17,
      "outputs": [
        {
          "output_type": "stream",
          "name": "stdout",
          "text": [
            "['M.S', '.', 'Dhoni', 'born', 'July', '7', ',', '1981', ',', 'Ranchi', ',', 'Bihar', 'now', 'Jharkhand', 'state', ',', 'India', 'Indian', 'cricketer', 'whose', 'rise', 'to', 'prominence', 'in', 'the', 'early', '21st', 'century', 'culminated', 'in', 'his', 'captaincy', 'of', 'the', 'Indian', 'national', 'team', 'that', 'won', 'the', 'one-day', 'Cricket', 'World', 'Cup', 'in', '2011', '.', 'Dhoni', 'made', 'his', 'international', 'debut', 'in', '2004']\n",
            "No.of tokens :  54\n"
          ]
        }
      ]
    },
    {
      "cell_type": "code",
      "source": [
        "from nltk.tokenize import sent_tokenize\n",
        "sentences = sent_tokenize(text)\n",
        "print(sentences)\n",
        "print(\"No.of sentences : \", len(sentences))"
      ],
      "metadata": {
        "colab": {
          "base_uri": "https://localhost:8080/"
        },
        "id": "MH8aUWjcZXrq",
        "outputId": "3a9db4d6-0afa-434d-b04d-c134b9a83c36"
      },
      "execution_count": 18,
      "outputs": [
        {
          "output_type": "stream",
          "name": "stdout",
          "text": [
            "['M.S.', 'Dhoni born July 7, 1981, Ranchi, Bihar now Jharkhand state, India Indian cricketer whose rise to prominence in the early 21st century culminated in his captaincy of the Indian national team that won the one-day Cricket World Cup in 2011.', 'Dhoni made his international debut in 2004']\n",
            "No.of sentences :  3\n"
          ]
        }
      ]
    },
    {
      "cell_type": "code",
      "source": [
        "from nltk.stem import PorterStemmer"
      ],
      "metadata": {
        "id": "0tl1YjQ2ZfJi"
      },
      "execution_count": 19,
      "outputs": []
    },
    {
      "cell_type": "code",
      "source": [
        "porter = PorterStemmer()\n",
        "print(porter.stem(\"international\"))\n",
        "print(porter.stem(\"captaincy\"))"
      ],
      "metadata": {
        "colab": {
          "base_uri": "https://localhost:8080/"
        },
        "id": "jEIJO3bYZhPK",
        "outputId": "15741cbf-6f33-4a92-e23b-22dfefae1bc3"
      },
      "execution_count": 22,
      "outputs": [
        {
          "output_type": "stream",
          "name": "stdout",
          "text": [
            "intern\n",
            "captainci\n"
          ]
        }
      ]
    },
    {
      "cell_type": "code",
      "source": [
        "from nltk.stem import PorterStemmer\n",
        "porter = PorterStemmer()\n",
        "\n",
        "sentence=\"Pythoners are very intelligent and work very pythonly and now they are pythoning their way to success.\"\n",
        "\n",
        "from nltk.tokenize import sent_tokenize, word_tokenize\n",
        "\n",
        "def stemSentence(sentence):\n",
        "    token_words=word_tokenize(sentence)\n",
        "    print(token_words)\n",
        "    stem_sentence=[]\n",
        "    for word in token_words:\n",
        "        stem_sentence.append(porter.stem(word))\n",
        "        stem_sentence.append(\" \")\n",
        "    return \"\".join(stem_sentence)\n",
        "\n",
        "x=stemSentence(sentence)\n",
        "print(\"Sentence after stemming :\", x)\n",
        ""
      ],
      "metadata": {
        "colab": {
          "base_uri": "https://localhost:8080/"
        },
        "id": "SK1mWZ6Sag7c",
        "outputId": "8f2d19e1-e356-4d7a-a01d-7ef3546daee1"
      },
      "execution_count": 23,
      "outputs": [
        {
          "output_type": "stream",
          "name": "stdout",
          "text": [
            "['Pythoners', 'are', 'very', 'intelligent', 'and', 'work', 'very', 'pythonly', 'and', 'now', 'they', 'are', 'pythoning', 'their', 'way', 'to', 'success', '.']\n",
            "Sentence after stemming : python are veri intellig and work veri pythonli and now they are python their way to success . \n"
          ]
        }
      ]
    }
  ]
}